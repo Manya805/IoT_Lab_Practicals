{
  "nbformat": 4,
  "nbformat_minor": 0,
  "metadata": {
    "colab": {
      "provenance": []
    },
    "kernelspec": {
      "name": "python3",
      "display_name": "Python 3"
    },
    "language_info": {
      "name": "python"
    }
  },
  "cells": [
    {
      "cell_type": "code",
      "execution_count": null,
      "metadata": {
        "colab": {
          "base_uri": "https://localhost:8080/"
        },
        "id": "wSPD_y-rN5t0",
        "outputId": "91d1427a-c034-4281-ada9-ab178bc6200f"
      },
      "outputs": [
        {
          "output_type": "stream",
          "name": "stdout",
          "text": [
            "Requirement already satisfied: gspread in /usr/local/lib/python3.11/dist-packages (6.2.0)\n",
            "Requirement already satisfied: oauth2client in /usr/local/lib/python3.11/dist-packages (4.1.3)\n",
            "Requirement already satisfied: google-auth>=1.12.0 in /usr/local/lib/python3.11/dist-packages (from gspread) (2.38.0)\n",
            "Requirement already satisfied: google-auth-oauthlib>=0.4.1 in /usr/local/lib/python3.11/dist-packages (from gspread) (1.2.2)\n",
            "Requirement already satisfied: httplib2>=0.9.1 in /usr/local/lib/python3.11/dist-packages (from oauth2client) (0.22.0)\n",
            "Requirement already satisfied: pyasn1>=0.1.7 in /usr/local/lib/python3.11/dist-packages (from oauth2client) (0.6.1)\n",
            "Requirement already satisfied: pyasn1-modules>=0.0.5 in /usr/local/lib/python3.11/dist-packages (from oauth2client) (0.4.2)\n",
            "Requirement already satisfied: rsa>=3.1.4 in /usr/local/lib/python3.11/dist-packages (from oauth2client) (4.9.1)\n",
            "Requirement already satisfied: six>=1.6.1 in /usr/local/lib/python3.11/dist-packages (from oauth2client) (1.17.0)\n",
            "Requirement already satisfied: cachetools<6.0,>=2.0.0 in /usr/local/lib/python3.11/dist-packages (from google-auth>=1.12.0->gspread) (5.5.2)\n",
            "Requirement already satisfied: requests-oauthlib>=0.7.0 in /usr/local/lib/python3.11/dist-packages (from google-auth-oauthlib>=0.4.1->gspread) (2.0.0)\n",
            "Requirement already satisfied: pyparsing!=3.0.0,!=3.0.1,!=3.0.2,!=3.0.3,<4,>=2.4.2 in /usr/local/lib/python3.11/dist-packages (from httplib2>=0.9.1->oauth2client) (3.2.3)\n",
            "Requirement already satisfied: oauthlib>=3.0.0 in /usr/local/lib/python3.11/dist-packages (from requests-oauthlib>=0.7.0->google-auth-oauthlib>=0.4.1->gspread) (3.2.2)\n",
            "Requirement already satisfied: requests>=2.0.0 in /usr/local/lib/python3.11/dist-packages (from requests-oauthlib>=0.7.0->google-auth-oauthlib>=0.4.1->gspread) (2.32.3)\n",
            "Requirement already satisfied: charset-normalizer<4,>=2 in /usr/local/lib/python3.11/dist-packages (from requests>=2.0.0->requests-oauthlib>=0.7.0->google-auth-oauthlib>=0.4.1->gspread) (3.4.1)\n",
            "Requirement already satisfied: idna<4,>=2.5 in /usr/local/lib/python3.11/dist-packages (from requests>=2.0.0->requests-oauthlib>=0.7.0->google-auth-oauthlib>=0.4.1->gspread) (3.10)\n",
            "Requirement already satisfied: urllib3<3,>=1.21.1 in /usr/local/lib/python3.11/dist-packages (from requests>=2.0.0->requests-oauthlib>=0.7.0->google-auth-oauthlib>=0.4.1->gspread) (2.3.0)\n",
            "Requirement already satisfied: certifi>=2017.4.17 in /usr/local/lib/python3.11/dist-packages (from requests>=2.0.0->requests-oauthlib>=0.7.0->google-auth-oauthlib>=0.4.1->gspread) (2025.1.31)\n",
            "Logged: 2025-04-26 07:26:29 | Temp: 33.67 | Humidity: 52.17\n",
            "Logged: 2025-04-26 07:26:31 | Temp: 28.4 | Humidity: 35.79\n",
            "Logged: 2025-04-26 07:26:32 | Temp: 24.27 | Humidity: 33.02\n",
            "Logged: 2025-04-26 07:26:34 | Temp: 24.78 | Humidity: 33.4\n",
            "Logged: 2025-04-26 07:26:35 | Temp: 22.23 | Humidity: 47.18\n",
            "Logged: 2025-04-26 07:26:36 | Temp: 20.81 | Humidity: 47.61\n",
            "Logged: 2025-04-26 07:26:38 | Temp: 20.59 | Humidity: 68.26\n",
            "Logged: 2025-04-26 07:26:39 | Temp: 24.55 | Humidity: 58.56\n",
            "Logged: 2025-04-26 07:26:40 | Temp: 30.57 | Humidity: 52.0\n",
            "Logged: 2025-04-26 07:26:41 | Temp: 24.11 | Humidity: 40.69\n",
            "✅ Data uploaded successfully!\n"
          ]
        }
      ],
      "source": [
        "!pip install gspread oauth2client\n",
        "\n",
        "import gspread\n",
        "import random\n",
        "from oauth2client.service_account import ServiceAccountCredentials\n",
        "from datetime import datetime\n",
        "import time\n",
        "\n",
        "# Define the scope\n",
        "scope = [\n",
        "    \"https://spreadsheets.google.com/feeds\",\n",
        "    \"https://www.googleapis.com/auth/drive\"\n",
        "]\n",
        "\n",
        "# Load creds and authorize\n",
        "creds = ServiceAccountCredentials.from_json_keyfile_name(\"Iot123.json\", scope)\n",
        "client = gspread.authorize(creds)\n",
        "\n",
        "# Open your spreadsheet\n",
        "spreadsheet = client.open(\"IoT123\")\n",
        "sheet = spreadsheet.sheet1\n",
        "\n",
        "# Add headers (only once if not already there)\n",
        "headers = [\"Date\", \"Time\", \"Temperature (°C)\", \"Humidity (%)\"]\n",
        "sheet.append_row(headers)\n",
        "\n",
        "# Simulate real-time data logging\n",
        "for i in range(10):\n",
        "    date = datetime.now().strftime(\"%Y-%m-%d\")\n",
        "    time_now = datetime.now().strftime(\"%H:%M:%S\")\n",
        "    temperature = round(random.uniform(20.0, 35.0), 2)\n",
        "    humidity = round(random.uniform(30.0, 70.0), 2)\n",
        "    sheet.append_row([date, time_now, temperature, humidity])\n",
        "    print(f\"Logged: {date} {time_now} | Temp: {temperature} | Humidity: {humidity}\")\n",
        "    time.sleep(1)\n",
        "\n",
        "print(\"✅ Data uploaded successfully!\")\n",
        "\n"
      ]
    }
  ]
}